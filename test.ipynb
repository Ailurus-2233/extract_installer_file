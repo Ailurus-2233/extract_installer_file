{
 "cells": [
  {
   "cell_type": "code",
   "execution_count": 2,
   "metadata": {},
   "outputs": [],
   "source": [
    "from utils import file as uf\n",
    "from pathlib import Path"
   ]
  },
  {
   "cell_type": "code",
   "execution_count": 3,
   "metadata": {},
   "outputs": [],
   "source": [
    "extract_path = Path(\"D:\\\\Documents\\\\项目开发\\\\工控供应链项目\\\\测试软件\\\\Pvelite 12.1\")\n",
    "file_list, save_list = uf.get_file_list(extract_path)"
   ]
  },
  {
   "cell_type": "code",
   "execution_count": 8,
   "metadata": {},
   "outputs": [
    {
     "data": {
      "text/plain": [
       "[WindowsPath('D:/Documents/项目开发/工控供应链项目/测试软件/Pvelite 12.1/PVElite 2010 demo/COMMON_DOCUMENTS/Coade, Inc/PVElite/2010/system/abs.bin'),\n",
       " WindowsPath('D:/Documents/项目开发/工控供应链项目/测试软件/Pvelite 12.1/PVElite 2010 demo/COMMON_DOCUMENTS/Coade, Inc/PVElite/2010/system/AISC89.BIN'),\n",
       " WindowsPath('D:/Documents/项目开发/工控供应链项目/测试软件/Pvelite 12.1/PVElite 2010 demo/COMMON_DOCUMENTS/Coade, Inc/PVElite/2010/system/ENMATDATA.BIN'),\n",
       " WindowsPath('D:/Documents/项目开发/工控供应链项目/测试软件/Pvelite 12.1/PVElite 2010 demo/COMMON_DOCUMENTS/Coade, Inc/PVElite/2010/system/Matfil00.BIN'),\n",
       " WindowsPath('D:/Documents/项目开发/工控供应链项目/测试软件/Pvelite 12.1/PVElite 2010 demo/COMMON_DOCUMENTS/Coade, Inc/PVElite/2010/system/Matfil01.bin'),\n",
       " WindowsPath('D:/Documents/项目开发/工控供应链项目/测试软件/Pvelite 12.1/PVElite 2010 demo/COMMON_DOCUMENTS/Coade, Inc/PVElite/2010/system/Matfil02.BIN'),\n",
       " WindowsPath('D:/Documents/项目开发/工控供应链项目/测试软件/Pvelite 12.1/PVElite 2010 demo/COMMON_DOCUMENTS/Coade, Inc/PVElite/2010/system/Matfil03.BIN'),\n",
       " WindowsPath('D:/Documents/项目开发/工控供应链项目/测试软件/Pvelite 12.1/PVElite 2010 demo/COMMON_DOCUMENTS/Coade, Inc/PVElite/2010/system/Matfil04.BIN'),\n",
       " WindowsPath('D:/Documents/项目开发/工控供应链项目/测试软件/Pvelite 12.1/PVElite 2010 demo/COMMON_DOCUMENTS/Coade, Inc/PVElite/2010/system/Matfil05.BIN'),\n",
       " WindowsPath('D:/Documents/项目开发/工控供应链项目/测试软件/Pvelite 12.1/PVElite 2010 demo/COMMON_DOCUMENTS/Coade, Inc/PVElite/2010/system/Matfil06.BIN'),\n",
       " WindowsPath('D:/Documents/项目开发/工控供应链项目/测试软件/Pvelite 12.1/PVElite 2010 demo/COMMON_DOCUMENTS/Coade, Inc/PVElite/2010/system/MatFil06D2.BIN'),\n",
       " WindowsPath('D:/Documents/项目开发/工控供应链项目/测试软件/Pvelite 12.1/PVElite 2010 demo/COMMON_DOCUMENTS/Coade, Inc/PVElite/2010/system/Matfil07.bin'),\n",
       " WindowsPath('D:/Documents/项目开发/工控供应链项目/测试软件/Pvelite 12.1/PVElite 2010 demo/COMMON_DOCUMENTS/Coade, Inc/PVElite/2010/system/Matfil08.bin'),\n",
       " WindowsPath('D:/Documents/项目开发/工控供应链项目/测试软件/Pvelite 12.1/PVElite 2010 demo/COMMON_DOCUMENTS/Coade, Inc/PVElite/2010/system/Matfil98.BIN'),\n",
       " WindowsPath('D:/Documents/项目开发/工控供应链项目/测试软件/Pvelite 12.1/PVElite 2010 demo/COMMON_DOCUMENTS/Coade, Inc/PVElite/2010/system/Matfil99.bin'),\n",
       " WindowsPath('D:/Documents/项目开发/工控供应链项目/测试软件/Pvelite 12.1/PVElite 2010 demo/COMMON_DOCUMENTS/Coade, Inc/PVElite/2010/system/MATFILE1.BIN'),\n",
       " WindowsPath('D:/Documents/项目开发/工控供应链项目/测试软件/Pvelite 12.1/PVElite 2010 demo/COMMON_DOCUMENTS/Coade, Inc/PVElite/2010/system/MATFILE2.BIN'),\n",
       " WindowsPath('D:/Documents/项目开发/工控供应链项目/测试软件/Pvelite 12.1/PVElite 2010 demo/COMMON_DOCUMENTS/Coade, Inc/PVElite/2010/system/YIELDSTR.BIN'),\n",
       " WindowsPath('D:/Documents/项目开发/工控供应链项目/测试软件/Pvelite 12.1/PVElite 2010 demo/program files/COADE/PVElite 2010 Demo/AISC89.BIN'),\n",
       " WindowsPath('D:/Documents/项目开发/工控供应链项目/测试软件/Pvelite 12.1/PVElite 2010 demo/program files/COADE/PVElite 2010 Demo/DYNHEAD.BIN'),\n",
       " WindowsPath('D:/Documents/项目开发/工控供应链项目/测试软件/Pvelite 12.1/PVElite 2010 demo/program files/COADE/PVElite 2010 Demo/System_backup/abs.bin'),\n",
       " WindowsPath('D:/Documents/项目开发/工控供应链项目/测试软件/Pvelite 12.1/PVElite 2010 demo/program files/COADE/PVElite 2010 Demo/System_backup/AISC89.BIN'),\n",
       " WindowsPath('D:/Documents/项目开发/工控供应链项目/测试软件/Pvelite 12.1/PVElite 2010 demo/program files/COADE/PVElite 2010 Demo/System_backup/ENMATDATA.BIN'),\n",
       " WindowsPath('D:/Documents/项目开发/工控供应链项目/测试软件/Pvelite 12.1/PVElite 2010 demo/program files/COADE/PVElite 2010 Demo/System_backup/Matfil00.BIN'),\n",
       " WindowsPath('D:/Documents/项目开发/工控供应链项目/测试软件/Pvelite 12.1/PVElite 2010 demo/program files/COADE/PVElite 2010 Demo/System_backup/Matfil01.bin'),\n",
       " WindowsPath('D:/Documents/项目开发/工控供应链项目/测试软件/Pvelite 12.1/PVElite 2010 demo/program files/COADE/PVElite 2010 Demo/System_backup/Matfil02.BIN'),\n",
       " WindowsPath('D:/Documents/项目开发/工控供应链项目/测试软件/Pvelite 12.1/PVElite 2010 demo/program files/COADE/PVElite 2010 Demo/System_backup/Matfil03.BIN'),\n",
       " WindowsPath('D:/Documents/项目开发/工控供应链项目/测试软件/Pvelite 12.1/PVElite 2010 demo/program files/COADE/PVElite 2010 Demo/System_backup/Matfil04.BIN'),\n",
       " WindowsPath('D:/Documents/项目开发/工控供应链项目/测试软件/Pvelite 12.1/PVElite 2010 demo/program files/COADE/PVElite 2010 Demo/System_backup/Matfil05.BIN'),\n",
       " WindowsPath('D:/Documents/项目开发/工控供应链项目/测试软件/Pvelite 12.1/PVElite 2010 demo/program files/COADE/PVElite 2010 Demo/System_backup/Matfil06.BIN'),\n",
       " WindowsPath('D:/Documents/项目开发/工控供应链项目/测试软件/Pvelite 12.1/PVElite 2010 demo/program files/COADE/PVElite 2010 Demo/System_backup/MatFil06D2.BIN'),\n",
       " WindowsPath('D:/Documents/项目开发/工控供应链项目/测试软件/Pvelite 12.1/PVElite 2010 demo/program files/COADE/PVElite 2010 Demo/System_backup/Matfil07.bin'),\n",
       " WindowsPath('D:/Documents/项目开发/工控供应链项目/测试软件/Pvelite 12.1/PVElite 2010 demo/program files/COADE/PVElite 2010 Demo/System_backup/Matfil08.bin'),\n",
       " WindowsPath('D:/Documents/项目开发/工控供应链项目/测试软件/Pvelite 12.1/PVElite 2010 demo/program files/COADE/PVElite 2010 Demo/System_backup/Matfil98.BIN'),\n",
       " WindowsPath('D:/Documents/项目开发/工控供应链项目/测试软件/Pvelite 12.1/PVElite 2010 demo/program files/COADE/PVElite 2010 Demo/System_backup/Matfil99.bin'),\n",
       " WindowsPath('D:/Documents/项目开发/工控供应链项目/测试软件/Pvelite 12.1/PVElite 2010 demo/program files/COADE/PVElite 2010 Demo/System_backup/MATFILE1.BIN'),\n",
       " WindowsPath('D:/Documents/项目开发/工控供应链项目/测试软件/Pvelite 12.1/PVElite 2010 demo/program files/COADE/PVElite 2010 Demo/System_backup/MATFILE2.BIN'),\n",
       " WindowsPath('D:/Documents/项目开发/工控供应链项目/测试软件/Pvelite 12.1/PVElite 2010 demo/program files/COADE/PVElite 2010 Demo/System_backup/YIELDSTR.BIN'),\n",
       " WindowsPath('D:/Documents/项目开发/工控供应链项目/测试软件/Pvelite 12.1/PVElite 2010 demo.msi')]"
      ]
     },
     "execution_count": 8,
     "metadata": {},
     "output_type": "execute_result"
    }
   ],
   "source": [
    "file_list"
   ]
  },
  {
   "cell_type": "code",
   "execution_count": null,
   "metadata": {},
   "outputs": [],
   "source": []
  }
 ],
 "metadata": {
  "interpreter": {
   "hash": "44c3e2835958ff4776ad5b95734ea0e1f627afe455c3548f63e2c60038fd8611"
  },
  "kernelspec": {
   "display_name": "Python 3.9.7 ('base')",
   "language": "python",
   "name": "python3"
  },
  "language_info": {
   "codemirror_mode": {
    "name": "ipython",
    "version": 3
   },
   "file_extension": ".py",
   "mimetype": "text/x-python",
   "name": "python",
   "nbconvert_exporter": "python",
   "pygments_lexer": "ipython3",
   "version": "3.9.7"
  },
  "orig_nbformat": 4
 },
 "nbformat": 4,
 "nbformat_minor": 2
}
